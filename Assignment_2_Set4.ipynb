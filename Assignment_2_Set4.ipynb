{
 "cells": [
  {
   "cell_type": "markdown",
   "id": "a98149f3",
   "metadata": {},
   "source": [
    "# Set4"
   ]
  },
  {
   "cell_type": "markdown",
   "id": "be95cad2",
   "metadata": {},
   "source": [
    "# Question 3"
   ]
  },
  {
   "cell_type": "code",
   "execution_count": 1,
   "id": "34ade60d",
   "metadata": {},
   "outputs": [],
   "source": [
    "import pandas as pd\n",
    "import numpy as np\n",
    "import matplotlib.pyplot as plt\n",
    "import scipy.stats as stats\n",
    "import seaborn as sns\n",
    "import statsmodels.api as smf\n",
    "import warnings\n",
    "warnings.filterwarnings('ignore')"
   ]
  },
  {
   "cell_type": "code",
   "execution_count": 5,
   "id": "09f0c5c0",
   "metadata": {},
   "outputs": [
    {
     "name": "stdout",
     "output_type": "stream",
     "text": [
      "The probability that in any given week, there will be an investigation is: 21.42%\n"
     ]
    }
   ],
   "source": [
    "import numpy as np\n",
    "import scipy.stats as stats\n",
    "\n",
    "# Given values\n",
    "sample_mean = 50  # average withdrawal amount\n",
    "sample_std = 40   # standard deviation of withdrawal amounts\n",
    "sample_size = 100\n",
    "\n",
    "# Confidence interval range\n",
    "confidence_interval_low = 45\n",
    "confidence_interval_high = 55\n",
    "\n",
    "# Calculate the t-score for the confidence interval\n",
    "t_low = (confidence_interval_low - sample_mean) / (sample_std / np.sqrt(sample_size))\n",
    "t_high = (confidence_interval_high - sample_mean) / (sample_std / np.sqrt(sample_size))\n",
    "\n",
    "# Calculate the probability of investigation\n",
    "prob_outside_interval = stats.t.cdf(t_low, df=sample_size-1) + (1 - stats.t.cdf(t_high, df=sample_size-1))\n",
    "\n",
    "# Display the result\n",
    "print(f\"The probability that in any given week, there will be an investigation is: {np.round(prob_outside_interval * 100, 2)}%\")\n"
   ]
  },
  {
   "cell_type": "markdown",
   "id": "0fb30020",
   "metadata": {},
   "source": [
    "# Question 4"
   ]
  },
  {
   "cell_type": "code",
   "execution_count": 6,
   "id": "2eb5d718",
   "metadata": {},
   "outputs": [
    {
     "name": "stdout",
     "output_type": "stream",
     "text": [
      "The minimum number of transactions to maintain a 5% probability of investigation: 0\n"
     ]
    }
   ],
   "source": [
    "import scipy.stats as stats\n",
    "\n",
    "# Given values\n",
    "confidence_level = 0.95\n",
    "probability_of_investigation = 0.05\n",
    "threshold_low = 45\n",
    "threshold_high = 55\n",
    "\n",
    "# Calculate Z-score\n",
    "Z = stats.norm.ppf(confidence_level)\n",
    "\n",
    "# Calculate margin of error\n",
    "E = (threshold_high - threshold_low) / 2\n",
    "\n",
    "# Calculate sample size\n",
    "sample_size = (Z**2 * probability_of_investigation * (1 - probability_of_investigation)) / E**2\n",
    "\n",
    "# Round up to the nearest whole number, as the sample size must be an integer\n",
    "sample_size = round(sample_size)\n",
    "\n",
    "# Display the result\n",
    "print(f\"The minimum number of transactions to maintain a 5% probability of investigation: {sample_size}\")\n"
   ]
  },
  {
   "cell_type": "code",
   "execution_count": 12,
   "id": "475f3887",
   "metadata": {},
   "outputs": [
    {
     "name": "stdout",
     "output_type": "stream",
     "text": [
      "The Auditors would like to maintain the probability of investigation to 5%, they should sample 248.0 transactions if they do not want to change the thresholds of 45 to 55\n",
      "248.3776 247.3776\n"
     ]
    },
    {
     "ename": "TypeError",
     "evalue": "rv_generic.interval() missing 1 required positional argument: 'confidence'",
     "output_type": "error",
     "traceback": [
      "\u001b[1;31m---------------------------------------------------------------------------\u001b[0m",
      "\u001b[1;31mTypeError\u001b[0m                                 Traceback (most recent call last)",
      "Cell \u001b[1;32mIn[12], line 20\u001b[0m\n\u001b[0;32m     17\u001b[0m df\u001b[38;5;241m=\u001b[39m n\u001b[38;5;241m-\u001b[39m\u001b[38;5;241m1\u001b[39m\n\u001b[0;32m     18\u001b[0m \u001b[38;5;28mprint\u001b[39m(n, df)\n\u001b[1;32m---> 20\u001b[0m np\u001b[38;5;241m.\u001b[39mround(stats\u001b[38;5;241m.\u001b[39mt\u001b[38;5;241m.\u001b[39minterval(alpha \u001b[38;5;241m=\u001b[39m \u001b[38;5;241m0.95\u001b[39m, df \u001b[38;5;241m=\u001b[39m df, loc \u001b[38;5;241m=\u001b[39m mew, scale \u001b[38;5;241m=\u001b[39m s_std\u001b[38;5;241m/\u001b[39mnp\u001b[38;5;241m.\u001b[39msqrt(n)),)\n",
      "\u001b[1;31mTypeError\u001b[0m: rv_generic.interval() missing 1 required positional argument: 'confidence'"
     ]
    }
   ],
   "source": [
    "x_bar = 45\n",
    "s_std = 40\n",
    "mew = 50\n",
    "\n",
    "t = np.round(stats.t.ppf(0.025, df = 249),2)\n",
    "t\n",
    "\n",
    "# t_value = (x_bar - mew)/(sample_std/n**0.5)\n",
    "# t = 45-50 or z = 55-50 z = +/- 5\n",
    "\n",
    "# t = 5/(40/n**0.5)\n",
    "# n = (sample_standard_deviation*tscore)/(sample_mean=population_mean)\n",
    "n = ((s_std*abs(t)) / (5))**2\n",
    "\n",
    "print('The Auditors would like to maintain the probability of investigation to 5%, they should sample',np.round(n,),'transactions if they do not want to change the thresholds of 45 to 55')\n",
    "\n",
    "df= n-1\n",
    "print(n, df)\n",
    "\n",
    "np.round(stats.t.interval(alpha = 0.95, df = df, loc = mew, scale = s_std/np.sqrt(n)),)"
   ]
  },
  {
   "cell_type": "code",
   "execution_count": null,
   "id": "dfc262bd",
   "metadata": {},
   "outputs": [],
   "source": []
  }
 ],
 "metadata": {
  "kernelspec": {
   "display_name": "Python 3 (ipykernel)",
   "language": "python",
   "name": "python3"
  },
  "language_info": {
   "codemirror_mode": {
    "name": "ipython",
    "version": 3
   },
   "file_extension": ".py",
   "mimetype": "text/x-python",
   "name": "python",
   "nbconvert_exporter": "python",
   "pygments_lexer": "ipython3",
   "version": "3.11.5"
  }
 },
 "nbformat": 4,
 "nbformat_minor": 5
}
