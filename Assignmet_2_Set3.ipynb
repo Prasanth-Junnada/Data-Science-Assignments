{
 "cells": [
  {
   "cell_type": "markdown",
   "id": "02e73f3f",
   "metadata": {},
   "source": [
    "# Question 2"
   ]
  },
  {
   "cell_type": "code",
   "execution_count": 3,
   "id": "c7867e41",
   "metadata": {},
   "outputs": [
    {
     "name": "stdout",
     "output_type": "stream",
     "text": [
      "A. Population: 225\n",
      "B. Parameter of Interest: 7.5\n",
      "C. Sampling Frame: 225\n",
      "D. Sample Size: 225\n",
      "E. Sampling Design: Voluntary Response\n"
     ]
    }
   ],
   "source": [
    "# Import necessary libraries\n",
    "import pandas as pd\n",
    "\n",
    "# Assume you have the data in a DataFrame named 'survey_data'\n",
    "# This is just a hypothetical example, replace it with your actual data\n",
    "survey_data = pd.DataFrame({\n",
    "    'Product': ['Kodak Compact Digital Camera'] * 225,\n",
    "    'Rating': [7.5] * 225\n",
    "})\n",
    "\n",
    "# A. Population: All readers of PC Magazine\n",
    "population = survey_data.index.size\n",
    "\n",
    "# B. Parameter of Interest: Average rating for the Kodak compact digital camera\n",
    "parameter_of_interest = survey_data['Rating'].mean()\n",
    "\n",
    "# C. Sampling Frame: List of all PC Magazine readers who were asked to participate\n",
    "sampling_frame = survey_data.index.size\n",
    "\n",
    "# D. Sample Size: Number of readers who rated the Kodak compact digital camera\n",
    "sample_size = survey_data['Rating'].size\n",
    "\n",
    "# E. Sampling Design: Voluntary response sampling (assumption based on the description)\n",
    "sampling_design = \"Voluntary Response\"\n",
    "\n",
    "# Display the results\n",
    "print(f\"A. Population: {population}\")\n",
    "print(f\"B. Parameter of Interest: {parameter_of_interest}\")\n",
    "print(f\"C. Sampling Frame: {sampling_frame}\")\n",
    "print(f\"D. Sample Size: {sample_size}\")\n",
    "print(f\"E. Sampling Design: {sampling_design}\")\n"
   ]
  },
  {
   "cell_type": "markdown",
   "id": "199f7b9f",
   "metadata": {},
   "source": [
    "# Question 3"
   ]
  },
  {
   "cell_type": "code",
   "execution_count": 2,
   "id": "d4e009ec",
   "metadata": {},
   "outputs": [
    {
     "name": "stdout",
     "output_type": "stream",
     "text": [
      "I. Is $100 a plausible value for the population mean? True\n",
      "II. Does the confidence interval imply fewer than half of moviegoers purchase concessions? False\n",
      "III. The statement that the 95% Confidence Interval for μ only applies if the sample data are nearly normally distributed is False.\n"
     ]
    }
   ],
   "source": [
    "# Import necessary libraries\n",
    "import scipy.stats as stats\n",
    "\n",
    "# I. Confidence interval for the average purchase at a department store\n",
    "lower_bound = 50\n",
    "upper_bound = 110\n",
    "plausible_value = 100\n",
    "\n",
    "# Check if the plausible value falls within the confidence interval\n",
    "is_plausible = lower_bound <= plausible_value <= upper_bound\n",
    "\n",
    "print(f\"I. Is $100 a plausible value for the population mean? {is_plausible}\")\n",
    "\n",
    "\n",
    "# II. Confidence interval for the proportion of moviegoers purchasing concessions\n",
    "lower_bound_proportion = 0.30\n",
    "upper_bound_proportion = 0.45\n",
    "plausible_proportion = 0.5\n",
    "\n",
    "# Check if the plausible proportion falls within the confidence interval\n",
    "is_plausible_proportion = lower_bound_proportion <= plausible_proportion <= upper_bound_proportion\n",
    "\n",
    "print(f\"II. Does the confidence interval imply fewer than half of moviegoers purchase concessions? {is_plausible_proportion}\")\n",
    "\n",
    "\n",
    "# III. The 95% Confidence Interval for μ only applies if the sample data are nearly normally distributed.\n",
    "# This statement is false. Confidence intervals are valid if the sample size is sufficiently large, even if the data are not normally distributed.\n",
    "print(\"III. The statement that the 95% Confidence Interval for μ only applies if the sample data are nearly normally distributed is False.\")\n"
   ]
  },
  {
   "cell_type": "markdown",
   "id": "44213518",
   "metadata": {},
   "source": [
    "# Question 4"
   ]
  },
  {
   "cell_type": "code",
   "execution_count": 4,
   "id": "bd1be8ce",
   "metadata": {},
   "outputs": [
    {
     "name": "stdout",
     "output_type": "stream",
     "text": [
      "The probability that X' > mu is: 0.5000\n"
     ]
    }
   ],
   "source": [
    "import scipy.stats as stats\n",
    "\n",
    "# Assume a standard normal distribution with mean (mu) = 0 and standard deviation (sigma) = 1\n",
    "mu = 0\n",
    "sigma = 1\n",
    "\n",
    "# Calculate the probability that X' is greater than mu\n",
    "probability = 1 - stats.norm.cdf(mu, loc=mu, scale=sigma)\n",
    "\n",
    "# Print the result\n",
    "print(f\"The probability that X' > mu is: {probability:.4f}\")\n"
   ]
  },
  {
   "cell_type": "markdown",
   "id": "c39c890b",
   "metadata": {},
   "source": [
    "# Question 5\n",
    "\n",
    "## This code calculates the z-statistic and p-value for each scenario. The p-value represents the probability of observing a sample proportion as extreme as the one obtained if the null hypothesis were true. If the p-value is less than the significance level (e.g., 0.05), we reject the null hypothesis."
   ]
  },
  {
   "cell_type": "code",
   "execution_count": 6,
   "id": "6de13eb2",
   "metadata": {},
   "outputs": [
    {
     "name": "stdout",
     "output_type": "stream",
     "text": [
      "I. p-value for a sample of 2,000 users: 0.2059\n",
      "II. p-value for a sample including all daily Internet users: 0.2059\n"
     ]
    }
   ],
   "source": [
    "import scipy.stats as stats\n",
    "\n",
    "# Given information\n",
    "sample_proportion = 0.046  # 4.6% share reported by WebSideStory\n",
    "null_hypothesis_proportion = 0.05  # Null hypothesis: Mozilla has a 5% market share\n",
    "sample_size_1 = 2000\n",
    "\n",
    "# I. Hypothesis test for sample size = 2,000 users\n",
    "z_stat_1 = (sample_proportion - null_hypothesis_proportion) / ((null_hypothesis_proportion * (1 - null_hypothesis_proportion)) / sample_size_1)**0.5\n",
    "p_value_1 = stats.norm.cdf(z_stat_1)\n",
    "\n",
    "# II. Hypothesis test for sample including all daily Internet users\n",
    "# For a very large sample size, we can use a z-test directly\n",
    "z_stat_2 = (sample_proportion - null_hypothesis_proportion) / ((null_hypothesis_proportion * (1 - null_hypothesis_proportion)) / sample_size_1)**0.5\n",
    "p_value_2 = stats.norm.cdf(z_stat_2)\n",
    "\n",
    "# Print the results\n",
    "print(f\"I. p-value for a sample of 2,000 users: {p_value_1:.4f}\")\n",
    "print(f\"II. p-value for a sample including all daily Internet users: {p_value_2:.4f}\")\n"
   ]
  },
  {
   "cell_type": "markdown",
   "id": "aecc53dd",
   "metadata": {},
   "source": [
    "## Question 8 an 9"
   ]
  },
  {
   "cell_type": "code",
   "execution_count": 7,
   "id": "0bc99a10",
   "metadata": {},
   "outputs": [
    {
     "name": "stdout",
     "output_type": "stream",
     "text": [
      "Question 8: Minimum sample size at 95% confidence: 601\n",
      "Question 9: Minimum sample size at 98% confidence: 849\n"
     ]
    }
   ],
   "source": [
    "import math\n",
    "\n",
    "# Function to calculate minimum sample size\n",
    "def calculate_sample_size(z, p, E):\n",
    "    return math.ceil((z**2 * p * (1-p)) / E**2)\n",
    "\n",
    "# Question 8\n",
    "Z_95 = 1.96\n",
    "margin_of_error_8 = 0.04\n",
    "sample_size_95 = calculate_sample_size(Z_95, 0.5, margin_of_error_8)\n",
    "\n",
    "# Question 9\n",
    "Z_98 = 2.33\n",
    "margin_of_error_9 = 0.04\n",
    "sample_size_98 = calculate_sample_size(Z_98, 0.5, margin_of_error_9)\n",
    "\n",
    "# Print the results\n",
    "print(f\"Question 8: Minimum sample size at 95% confidence: {sample_size_95}\")\n",
    "print(f\"Question 9: Minimum sample size at 98% confidence: {sample_size_98}\")\n"
   ]
  }
 ],
 "metadata": {
  "kernelspec": {
   "display_name": "Python 3 (ipykernel)",
   "language": "python",
   "name": "python3"
  },
  "language_info": {
   "codemirror_mode": {
    "name": "ipython",
    "version": 3
   },
   "file_extension": ".py",
   "mimetype": "text/x-python",
   "name": "python",
   "nbconvert_exporter": "python",
   "pygments_lexer": "ipython3",
   "version": "3.11.5"
  }
 },
 "nbformat": 4,
 "nbformat_minor": 5
}
